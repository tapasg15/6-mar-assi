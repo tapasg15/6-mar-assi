{
 "cells": [
  {
   "cell_type": "code",
   "execution_count": null,
   "id": "2a33d6a7-74fe-4d3e-9d7a-2752b75bd70c",
   "metadata": {},
   "outputs": [],
   "source": [
    "Q1. What is Statistics?\n",
    "Ans:- Statistics is branch that deals with every aspect of data."
   ]
  },
  {
   "cell_type": "code",
   "execution_count": null,
   "id": "6fa5b1ef-bb87-48ba-be76-5f3fadb125f1",
   "metadata": {},
   "outputs": [],
   "source": [
    "Q2. Define the different types of statistics and give an example of when each type might be used.\n",
    "Ans:- Types of Statistics \n",
    "1. Discriptive Statistics:- It consists of organizing and summarizing data.\n",
    "   Eg: the ratio of men and women in a city\n",
    "2. Inferential Statistics:- In the Inferential Statistics, we try to interpret the Meaning of descriptive Statistics.\n",
    "   Eg: In a class, the Data is the set of marks obtained by 50 students. Now when we take out the Data average, the result is \n",
    "    the average of 50 students’ marks. If the average marks obtained by 50 students are 88 out of 100, on the basis of the \n",
    "    outcome.\n"
   ]
  },
  {
   "cell_type": "code",
   "execution_count": null,
   "id": "dec12d98-3c00-46a0-b660-6703f1b52a5b",
   "metadata": {},
   "outputs": [],
   "source": [
    "Q3. What are the different types of data and how do they differ from each other? Provide an example of\n",
    "each type of data.\n",
    "Ans:- 1. Discrite Data:- This is a type of quantitative data, which is information that has numerical values.\n",
    "         Eg: the total number of students in a class\n",
    "\n",
    "      2. Continuous Data:- Continuous data is the opposite of discrete data, featuring sequences that have the \n",
    "         potential to go on infinitely.\n",
    "             Eg: the height of a person\n",
    "                \n",
    "      3. Nominal Data:- This type of qualitative data is descriptive. Accordingly, nominal data features information \n",
    "         that doesn't have quantitative values.\n",
    "         Eg:-eye colour: brown, black or blue\n",
    "            \n",
    "      4. Ordinal Data:- Ordinal data is another type of qualitative data. Unlike nominal data, the values in this \n",
    "         classification have a natural set order or scale.\n",
    "        Eg: surveys that ask you to rate an experience on a scale of one to 10"
   ]
  },
  {
   "cell_type": "code",
   "execution_count": null,
   "id": "ac60e2f7-9501-44c8-88ff-1ba49628926a",
   "metadata": {},
   "outputs": [],
   "source": []
  }
 ],
 "metadata": {
  "kernelspec": {
   "display_name": "Python 3 (ipykernel)",
   "language": "python",
   "name": "python3"
  },
  "language_info": {
   "codemirror_mode": {
    "name": "ipython",
    "version": 3
   },
   "file_extension": ".py",
   "mimetype": "text/x-python",
   "name": "python",
   "nbconvert_exporter": "python",
   "pygments_lexer": "ipython3",
   "version": "3.10.6"
  }
 },
 "nbformat": 4,
 "nbformat_minor": 5
}
